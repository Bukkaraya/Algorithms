{
 "cells": [
  {
   "cell_type": "code",
   "execution_count": 4,
   "metadata": {
    "collapsed": true
   },
   "outputs": [],
   "source": [
    "class Node:\n",
    "    def __init__(self, data):\n",
    "        self.data = data\n",
    "        self.next = None\n",
    "        self.prev = None\n",
    "    \n",
    "    def __str__(self):\n",
    "        return str(self.data)\n",
    "        \n",
    "class LinkedList:\n",
    "    def __init__(self):\n",
    "        self.head = None\n",
    "        self.tail = None\n",
    "    \n",
    "    \n",
    "    def add_to_front(self, data):\n",
    "        new_item = Node(data)\n",
    "        \n",
    "        if self.head:\n",
    "            new_item.next = self.head\n",
    "            self.head.prev = new_item\n",
    "            self.head = new_item\n",
    "        else:\n",
    "            self.head = new_item\n",
    "            self.tail = new_item\n",
    "    \n",
    "    def add_to_back(self, data):\n",
    "        new_item = Node(data)\n",
    "        \n",
    "        if self.tail:\n",
    "            new_item.prev = self.tail\n",
    "            self.tail.next = new_item\n",
    "            self.tail = new_item\n",
    "        else:\n",
    "            self.head = new_item\n",
    "            self.tail = new_item\n",
    "    \n",
    "    def remove_item(self, data):\n",
    "        cur = self.head\n",
    "        \n",
    "        while cur:\n",
    "            if cur.data == data:\n",
    "                break\n",
    "            cur = cur.next\n",
    "        \n",
    "        if cur is None:\n",
    "            return False\n",
    "        elif cur.prev is None and cur.next is None:\n",
    "            self.head = None\n",
    "            self.tail = None\n",
    "        elif cur.prev is None:\n",
    "            cur.next.prev = None\n",
    "            self.head = cur.next\n",
    "        elif cur.next is None:\n",
    "            cur.prev.next = None\n",
    "            self.tail = cur.prev\n",
    "        else:\n",
    "            cur.prev.next = cur.next\n",
    "            cur.next.prev = cur.prev\n",
    "        \n",
    "        return True\n",
    "    \n",
    "    def print_list(self):\n",
    "        cur = self.head\n",
    "        while cur:\n",
    "            print(str(cur))\n",
    "            cur = cur.next"
   ]
  },
  {
   "cell_type": "code",
   "execution_count": 16,
   "metadata": {},
   "outputs": [
    {
     "name": "stdout",
     "output_type": "stream",
     "text": [
      "Hello\n",
      "Stuff\n",
      "World\n"
     ]
    }
   ],
   "source": [
    "some_list = LinkedList()\n",
    "\n",
    "some_list.add_to_front('Hello')\n",
    "some_list.add_to_back('Stuff')\n",
    "some_list.add_to_back('what')\n",
    "some_list.add_to_back('World')\n",
    "\n",
    "some_list.remove_item('what')\n",
    "\n",
    "some_list.print_list()\n"
   ]
  },
  {
   "cell_type": "code",
   "execution_count": null,
   "metadata": {
    "collapsed": true
   },
   "outputs": [],
   "source": []
  }
 ],
 "metadata": {
  "kernelspec": {
   "display_name": "Python 3",
   "language": "python",
   "name": "python3"
  },
  "language_info": {
   "codemirror_mode": {
    "name": "ipython",
    "version": 3
   },
   "file_extension": ".py",
   "mimetype": "text/x-python",
   "name": "python",
   "nbconvert_exporter": "python",
   "pygments_lexer": "ipython3",
   "version": "3.6.1"
  }
 },
 "nbformat": 4,
 "nbformat_minor": 2
}
