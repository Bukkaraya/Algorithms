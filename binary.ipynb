{
 "cells": [
  {
   "cell_type": "code",
   "execution_count": 14,
   "metadata": {},
   "outputs": [
    {
     "name": "stdout",
     "output_type": "stream",
     "text": [
      "Enter a number\n",
      "> 98\n",
      "The number 98 in binary is: 1100010\n"
     ]
    }
   ],
   "source": [
    "print('Enter a number')\n",
    "num = int(input('> '))\n",
    "user_num = num\n",
    "\n",
    "b_of_num = ''\n",
    "\n",
    "while num != 0:\n",
    "    b_of_num += str(num % 2)\n",
    "    num = int(num / 2)\n",
    "\n",
    "print('The number {} in binary is: '.format(user_num) + b_of_num[::-1])"
   ]
  }
 ],
 "metadata": {
  "kernelspec": {
   "display_name": "Python 3",
   "language": "python",
   "name": "python3"
  },
  "language_info": {
   "codemirror_mode": {
    "name": "ipython",
    "version": 3
   },
   "file_extension": ".py",
   "mimetype": "text/x-python",
   "name": "python",
   "nbconvert_exporter": "python",
   "pygments_lexer": "ipython3",
   "version": "3.6.1"
  }
 },
 "nbformat": 4,
 "nbformat_minor": 2
}
