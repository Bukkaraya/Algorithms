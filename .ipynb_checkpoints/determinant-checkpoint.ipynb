{
 "cells": [
  {
   "cell_type": "code",
   "execution_count": 31,
   "metadata": {
    "scrolled": true
   },
   "outputs": [
    {
     "name": "stdout",
     "output_type": "stream",
     "text": [
      "0\n",
      "1\n",
      "2\n",
      "0\n"
     ]
    }
   ],
   "source": [
    "a = [[1, 2, 3], [4, 5, 6], [7, 8, 9]]\n",
    "\n",
    "def reduce(matrix, col_num):\n",
    "    reduced_matrix = list(matrix[1:])\n",
    "    for index, row in enumerate(reduced_matrix):\n",
    "        reduced_matrix[index] = row[:col_num] + row[col_num+1:]\n",
    "    \n",
    "    return reduced_matrix\n",
    "\n",
    "def determinant(matrix):\n",
    "    if len(matrix) < 2:\n",
    "        return None\n",
    "    if len(matrix) == 2:\n",
    "        return (matrix[0][0] * matrix[1][1]) - (matrix[0][1] * matrix[1][0])\n",
    "    else:\n",
    "        det = 0\n",
    "        for i in range(len(matrix[0])):\n",
    "            det += ((-1) ** i) * (matrix[0][i]) * determinant(reduce(list(matrix), i))\n",
    "        return det\n",
    "\n",
    "print(determinant(a))"
   ]
  },
  {
   "cell_type": "code",
   "execution_count": null,
   "metadata": {
    "collapsed": true
   },
   "outputs": [],
   "source": []
  }
 ],
 "metadata": {
  "kernelspec": {
   "display_name": "Python 3",
   "language": "python",
   "name": "python3"
  },
  "language_info": {
   "codemirror_mode": {
    "name": "ipython",
    "version": 3
   },
   "file_extension": ".py",
   "mimetype": "text/x-python",
   "name": "python",
   "nbconvert_exporter": "python",
   "pygments_lexer": "ipython3",
   "version": "3.6.3"
  }
 },
 "nbformat": 4,
 "nbformat_minor": 2
}
