{
 "cells": [
  {
   "cell_type": "code",
   "execution_count": 71,
   "metadata": {
    "scrolled": true
   },
   "outputs": [
    {
     "name": "stdout",
     "output_type": "stream",
     "text": [
      "0000\n",
      "0001\n",
      "0011\n",
      "0010\n",
      "0110\n",
      "0111\n",
      "0101\n",
      "0100\n",
      "1100\n",
      "1101\n",
      "1111\n",
      "1110\n",
      "1010\n",
      "1011\n",
      "1001\n",
      "1000\n"
     ]
    }
   ],
   "source": [
    "size = 4\n",
    "code = ['0', '1']\n",
    "count = 0\n",
    "\n",
    "while count < size - 1:\n",
    "    index = 0\n",
    "    code += code[::-1]\n",
    "\n",
    "    while index < len(code)/2:\n",
    "        code[index] += '0'\n",
    "        index += 1\n",
    "    \n",
    "    while index < len(code):\n",
    "        code[index] += '1'\n",
    "        index += 1\n",
    "    \n",
    "    count += 1\n",
    "\n",
    "for i in code:\n",
    "    print(''.join(i[::-1]))\n"
   ]
  }
 ],
 "metadata": {
  "kernelspec": {
   "display_name": "Python 3",
   "language": "python",
   "name": "python3"
  },
  "language_info": {
   "codemirror_mode": {
    "name": "ipython",
    "version": 3
   },
   "file_extension": ".py",
   "mimetype": "text/x-python",
   "name": "python",
   "nbconvert_exporter": "python",
   "pygments_lexer": "ipython3",
   "version": "3.6.1"
  }
 },
 "nbformat": 4,
 "nbformat_minor": 2
}
