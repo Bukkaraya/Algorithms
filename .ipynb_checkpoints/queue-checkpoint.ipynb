{
 "cells": [
  {
   "cell_type": "code",
   "execution_count": 1,
   "metadata": {
    "collapsed": true
   },
   "outputs": [],
   "source": [
    "class Queue:\n",
    "    def __init__(self):\n",
    "        self.queue = []\n",
    "    \n",
    "    def push(self, data):\n",
    "        self.queue.append(data)\n",
    "    \n",
    "    def pop(self):\n",
    "        self.queue = self.queue[1:]\n",
    "    \n",
    "    def peek(self):\n",
    "        if not self.queue_empty():\n",
    "            return self.queue[0]\n",
    "    \n",
    "    def queue_empty(self):\n",
    "        if len(self.queue) == 0:\n",
    "            return True\n",
    "        else:\n",
    "            return False\n",
    "    \n",
    "    def print_queue(self):\n",
    "        for i in self.queue:\n",
    "            print(i)\n"
   ]
  },
  {
   "cell_type": "code",
   "execution_count": 6,
   "metadata": {},
   "outputs": [
    {
     "name": "stdout",
     "output_type": "stream",
     "text": [
      "Hello\n",
      "\n",
      "\n",
      "Queue:\n",
      "World\n",
      "There\n",
      "Whatever\n"
     ]
    }
   ],
   "source": [
    "q =  Queue()\n",
    "\n",
    "q.push('Hello')\n",
    "q.push('World')\n",
    "q.push('There')\n",
    "q.push('Whatever')\n",
    "\n",
    "print(q.peek())\n",
    "\n",
    "q.pop()\n",
    "\n",
    "print('\\n\\nQueue:')\n",
    "q.print_queue()"
   ]
  }
 ],
 "metadata": {
  "kernelspec": {
   "display_name": "Python 3",
   "language": "python",
   "name": "python3"
  },
  "language_info": {
   "codemirror_mode": {
    "name": "ipython",
    "version": 3
   },
   "file_extension": ".py",
   "mimetype": "text/x-python",
   "name": "python",
   "nbconvert_exporter": "python",
   "pygments_lexer": "ipython3",
   "version": "3.6.1"
  }
 },
 "nbformat": 4,
 "nbformat_minor": 2
}
