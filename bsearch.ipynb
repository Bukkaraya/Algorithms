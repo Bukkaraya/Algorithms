{
 "cells": [
  {
   "cell_type": "code",
   "execution_count": 7,
   "metadata": {},
   "outputs": [
    {
     "name": "stdout",
     "output_type": "stream",
     "text": [
      "What would you like to search for?\n",
      "> 32\n",
      "[4, 5, 12, 23, 32, 34, 56, 76, 86]\n",
      "The item is in the array\n"
     ]
    }
   ],
   "source": [
    "print('What would you like to search for?')\n",
    "key = int(input('> '))\n",
    "\n",
    "array = [5, 4, 56, 34, 76, 23, 32, 86, 12]\n",
    "\n",
    "array = sorted(array)\n",
    "\n",
    "left = 0\n",
    "right = len(array) - 1\n",
    "key_found = False\n",
    "\n",
    "while left <= right:\n",
    "    mid = int(right - left / 2)\n",
    "    \n",
    "    if array[mid] < key:\n",
    "        left = mid + 1\n",
    "    elif array[mid] > key:\n",
    "        right = mid - 1\n",
    "    else:\n",
    "        key_found = True\n",
    "        break\n",
    "\n",
    "if key_found:\n",
    "    print('The item is in the array')\n",
    "else:\n",
    "    print('The item is not in the array')\n"
   ]
  },
  {
   "cell_type": "code",
   "execution_count": null,
   "metadata": {
    "collapsed": true
   },
   "outputs": [],
   "source": []
  }
 ],
 "metadata": {
  "kernelspec": {
   "display_name": "Python 3",
   "language": "python",
   "name": "python3"
  },
  "language_info": {
   "codemirror_mode": {
    "name": "ipython",
    "version": 3
   },
   "file_extension": ".py",
   "mimetype": "text/x-python",
   "name": "python",
   "nbconvert_exporter": "python",
   "pygments_lexer": "ipython3",
   "version": "3.6.1"
  }
 },
 "nbformat": 4,
 "nbformat_minor": 2
}
