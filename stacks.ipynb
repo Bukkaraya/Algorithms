{
 "cells": [
  {
   "cell_type": "code",
   "execution_count": 28,
   "metadata": {},
   "outputs": [],
   "source": [
    "class Stack:\n",
    "    def __init__(self):\n",
    "        self.stack = []\n",
    "\n",
    "    def push(self, data):\n",
    "        self.stack.append(data)\n",
    "    \n",
    "    def pop(self):\n",
    "        if not self.stack_empty():\n",
    "            self.stack = self.stack[:-1]\n",
    "            \n",
    "\n",
    "    def peek(self):\n",
    "        return self.stack[len(self.stack) - 1]\n",
    "    \n",
    "    def print_stack(self):\n",
    "        for i in self.stack:\n",
    "            print(i)\n",
    "    \n",
    "    def stack_empty(self):\n",
    "        if len(self.stack) == 0:\n",
    "            return True\n",
    "        \n",
    "        return False"
   ]
  },
  {
   "cell_type": "code",
   "execution_count": 29,
   "metadata": {},
   "outputs": [
    {
     "name": "stdout",
     "output_type": "stream",
     "text": [
      "There\n",
      "Hello\n",
      "World\n"
     ]
    }
   ],
   "source": [
    "st = Stack()\n",
    "st.push('Hello')\n",
    "st.push('World')\n",
    "st.push('There')\n",
    "\n",
    "item = st.peek()\n",
    "print(item)\n",
    "\n",
    "\n",
    "st.pop()\n",
    "st.print_stack()"
   ]
  }
 ],
 "metadata": {
  "kernelspec": {
   "display_name": "Python 3",
   "language": "python",
   "name": "python3"
  },
  "language_info": {
   "codemirror_mode": {
    "name": "ipython",
    "version": 3
   },
   "file_extension": ".py",
   "mimetype": "text/x-python",
   "name": "python",
   "nbconvert_exporter": "python",
   "pygments_lexer": "ipython3",
   "version": "3.6.1"
  }
 },
 "nbformat": 4,
 "nbformat_minor": 2
}
