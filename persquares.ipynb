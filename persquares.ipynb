{
 "cells": [
  {
   "cell_type": "code",
   "execution_count": null,
   "metadata": {
    "collapsed": true
   },
   "outputs": [],
   "source": [
    "co_effs = [2, 2, 1]\n",
    "\n",
    "discriminant = co_eff[1] * co_eff[1] - 4 * co_eff[0] * co_eff[2]\n",
    "\n",
    "if discriminant == 0:\n",
    "    print('Polynomial is a perfect square')\n",
    "else:\n",
    "    print('P')"
   ]
  }
 ],
 "metadata": {
  "kernelspec": {
   "display_name": "Python 3",
   "language": "python",
   "name": "python3"
  },
  "language_info": {
   "codemirror_mode": {
    "name": "ipython",
    "version": 3
   },
   "file_extension": ".py",
   "mimetype": "text/x-python",
   "name": "python",
   "nbconvert_exporter": "python",
   "pygments_lexer": "ipython3",
   "version": "3.6.3"
  }
 },
 "nbformat": 4,
 "nbformat_minor": 2
}
